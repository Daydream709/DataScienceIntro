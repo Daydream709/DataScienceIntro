{
 "cells": [
  {
   "cell_type": "code",
   "execution_count": null,
   "id": "d191946c",
   "metadata": {},
   "outputs": [],
   "source": [
    "# 导入必要的库\n",
    "import pandas as pd\n",
    "import numpy as np\n",
    "import matplotlib.pyplot as plt\n",
    "import seaborn as sns\n",
    "from sklearn.preprocessing import StandardScaler, LabelEncoder\n",
    "import warnings\n",
    "\n",
    "warnings.filterwarnings(\"ignore\")\n",
    "\n",
    "# 设置中文字体显示\n",
    "plt.rcParams[\"font.sans-serif\"] = [\"SimHei\", \"Arial Unicode MS\", \"DejaVu Sans\"]\n",
    "plt.rcParams[\"axes.unicode_minus\"] = False\n",
    "\n",
    "# 加载数据\n",
    "df = pd.read_csv(\"data/train.csv\")"
   ]
  },
  {
   "cell_type": "code",
   "execution_count": null,
   "id": "24d1cafd",
   "metadata": {},
   "outputs": [],
   "source": [
    "# 查看数据基本信息\n",
    "print(\"数据集基本信息：\")\n",
    "print(df.info())\n",
    "\n",
    "# 查看数据描述性统计\n",
    "print(\"\\n描述性统计：\")\n",
    "print(df.describe())"
   ]
  },
  {
   "cell_type": "code",
   "execution_count": null,
   "id": "cc241b95",
   "metadata": {},
   "outputs": [],
   "source": [
    "# 处理缺失值\n",
    "# 对于数值型特征，使用中位数填充\n",
    "numeric_columns = df.select_dtypes(include=[np.number]).columns\n",
    "for col in numeric_columns:\n",
    "    if df[col].isnull().sum() > 0:\n",
    "        df[col].fillna(df[col].median(), inplace=True)\n",
    "\n",
    "# 对于分类特征，标记为\"Unknown\"\n",
    "categorical_columns = df.select_dtypes(include=[\"object\"]).columns\n",
    "for col in categorical_columns:\n",
    "    if df[col].isnull().sum() > 0:\n",
    "        df[col].fillna(\"Unknown\", inplace=True)"
   ]
  },
  {
   "cell_type": "code",
   "execution_count": null,
   "id": "314753e0",
   "metadata": {},
   "outputs": [],
   "source": [
    "# 选择数值型列进行异常值检测，使用的异常值检测方法是 IQR法\n",
    "numeric_cols = df.select_dtypes(include=[np.number]).columns\n",
    "\n",
    "for col in numeric_cols:\n",
    "    Q1 = df[col].quantile(0.25)\n",
    "    Q3 = df[col].quantile(0.75)\n",
    "    IQR = Q3 - Q1\n",
    "    lower_bound = Q1 - 1.5 * IQR\n",
    "    upper_bound = Q3 + 1.5 * IQR\n",
    "\n",
    "    outliers = df[(df[col] < lower_bound) | (df[col] > upper_bound)]\n",
    "    print(f\"{col} 的异常值数量: {len(outliers)}\")"
   ]
  },
  {
   "cell_type": "code",
   "execution_count": null,
   "id": "b2e949e7",
   "metadata": {},
   "outputs": [],
   "source": [
    "# 只计算数值型变量的相关性\n",
    "correlation_matrix = df[numeric_cols].corr()\n",
    "\n",
    "# 绘制热力图\n",
    "plt.figure(figsize=(10, 8))\n",
    "sns.heatmap(correlation_matrix, annot=True, cmap=\"coolwarm\", center=0, square=True)\n",
    "plt.title(\"特征之间的相关性热力图\")\n",
    "plt.show()\n",
    "\n",
    "# 找出所有 |r| > 0.5 的特征对\n",
    "strong_pairs = []\n",
    "for i in range(len(numeric_cols)):\n",
    "    for j in range(i + 1, len(numeric_cols)):\n",
    "        col1, col2 = numeric_cols[i], numeric_cols[j]\n",
    "        corr = correlation_matrix.loc[col1, col2]\n",
    "        if abs(corr) > 0.5:\n",
    "            strong_pairs.append((col1, col2, corr))\n",
    "\n",
    "# 显示结果\n",
    "print(\"强相关特征对（|r| > 0.5）：\")\n",
    "for pair in strong_pairs:\n",
    "    print(f\"{pair[0]} 与 {pair[1]}: {pair[2]:.3f}\")"
   ]
  },
  {
   "cell_type": "code",
   "execution_count": null,
   "id": "7efc787c",
   "metadata": {},
   "outputs": [],
   "source": [
    "# 创建标准化器\n",
    "scaler = StandardScaler()\n",
    "\n",
    "# 对 price 进行标准化（z-score 标准化）\n",
    "df[\"price_scaled\"] = scaler.fit_transform(df[[\"SalePrice\"]])\n",
    "\n",
    "print(\"标准化后的 price 前几项：\")\n",
    "print(df[\"price_scaled\"].head())"
   ]
  },
  {
   "cell_type": "code",
   "execution_count": null,
   "id": "22e1cca4",
   "metadata": {},
   "outputs": [],
   "source": [
    "# 方法一：等宽分桶（Equal-width binning）\n",
    "bins = [0, 150000, 300000, np.inf]\n",
    "labels = [\"低价（0-150K）\", \"中价（150K-300K）\", \"高价（300K以上）\"]\n",
    "df[\"price_level\"] = pd.cut(df[\"SalePrice\"], bins=bins, labels=labels)\n",
    "\n",
    "print(\"价格等级分布：\")\n",
    "print(df[\"price_level\"].value_counts())"
   ]
  },
  {
   "cell_type": "code",
   "execution_count": null,
   "id": "c87d8976",
   "metadata": {},
   "outputs": [],
   "source": [
    "# 获取 price 与其他特征的相关性排序\n",
    "price_corr = correlation_matrix[\"SalePrice\"].abs().sort_values(ascending=False)\n",
    "top_3_features = price_corr[1:4]  # 排除自己\n",
    "\n",
    "print(\"与 price 相关性最高的三个特征：\")\n",
    "print(top_3_features)"
   ]
  }
 ],
 "metadata": {
  "kernelspec": {
   "display_name": "Python 3",
   "language": "python",
   "name": "python3"
  },
  "language_info": {
   "codemirror_mode": {
    "name": "ipython",
    "version": 3
   },
   "file_extension": ".py",
   "mimetype": "text/x-python",
   "name": "python",
   "nbconvert_exporter": "python",
   "pygments_lexer": "ipython3",
   "version": "3.12.6"
  }
 },
 "nbformat": 4,
 "nbformat_minor": 5
}
